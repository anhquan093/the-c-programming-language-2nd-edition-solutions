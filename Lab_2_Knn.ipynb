{
  "nbformat": 4,
  "nbformat_minor": 0,
  "metadata": {
    "colab": {
      "provenance": [],
      "include_colab_link": true
    },
    "kernelspec": {
      "name": "python3",
      "display_name": "Python 3"
    },
    "language_info": {
      "name": "python"
    }
  },
  "cells": [
    {
      "cell_type": "markdown",
      "metadata": {
        "id": "view-in-github",
        "colab_type": "text"
      },
      "source": [
        "<a href=\"https://colab.research.google.com/github/anhquan093/the-c-programming-language-2nd-edition-solutions/blob/main/Lab_2_Knn.ipynb\" target=\"_parent\"><img src=\"https://colab.research.google.com/assets/colab-badge.svg\" alt=\"Open In Colab\"/></a>"
      ]
    },
    {
      "cell_type": "code",
      "execution_count": null,
      "metadata": {
        "id": "Is3ymUpa6c6t"
      },
      "outputs": [],
      "source": [
        "import numpy as np\n",
        "import statistics as st"
      ]
    },
    {
      "cell_type": "code",
      "source": [],
      "metadata": {
        "id": "Qap7HWpTvEWc"
      },
      "execution_count": null,
      "outputs": []
    },
    {
      "cell_type": "code",
      "source": [
        "features = np.array([[1,     2], \n",
        "                    [1.5, 2.9], \n",
        "                    [1.3, 2.2], \n",
        "                    [1.6,   3], \n",
        "                    [1.8, 3.5], \n",
        "                    [1.9, 2.5]])\n",
        "\n",
        "labels = np.array([[1],\n",
        "                   [1],\n",
        "                   [1],\n",
        "                   [2],\n",
        "                   [2],\n",
        "                   [2]])\n",
        "\n",
        "X = np.array([[1.4, 2.5]])\n",
        "\n",
        "print(features)\n",
        "print(labels)"
      ],
      "metadata": {
        "colab": {
          "base_uri": "https://localhost:8080/"
        },
        "id": "AsQIimfEoiaK",
        "outputId": "9ca547ae-a367-40ae-d068-0c7f75f70303"
      },
      "execution_count": null,
      "outputs": [
        {
          "output_type": "stream",
          "name": "stdout",
          "text": [
            "[[1.  2. ]\n",
            " [1.5 2.9]\n",
            " [1.3 2.2]\n",
            " [1.6 3. ]\n",
            " [1.8 3.5]\n",
            " [1.9 2.5]]\n",
            "[[1]\n",
            " [1]\n",
            " [1]\n",
            " [2]\n",
            " [2]\n",
            " [2]]\n"
          ]
        }
      ]
    },
    {
      "cell_type": "code",
      "source": [
        "print(features[:,0])"
      ],
      "metadata": {
        "colab": {
          "base_uri": "https://localhost:8080/"
        },
        "id": "6BRugcU_qR3J",
        "outputId": "0d5d96dc-def4-47b0-8691-5126f21c3ab0"
      },
      "execution_count": null,
      "outputs": [
        {
          "output_type": "stream",
          "name": "stdout",
          "text": [
            "[1.  1.5 1.3 1.6 1.8 1.9]\n"
          ]
        }
      ]
    },
    {
      "cell_type": "code",
      "source": [
        "# Standardization \n",
        "\n",
        "#Calculate the mean and variance of feature x1\n",
        "mean_x1 = np.mean(features[:, 0])\n",
        "var_x1 = np.var(features[:, 0])\n",
        "\n",
        "\n",
        "#Calculate the mean and variance of feature x2\n",
        "mean_x2 = np.mean(features[:, 1])\n",
        "var_x2 = np.var(features[:, 1])\n",
        "\n",
        "\n",
        "print(\"Mean of feature x1: \", mean_x1)\n",
        "print(\"Variance of feature x1: \", var_x1)\n",
        "print(\"\\n\")\n",
        "print(\"Mean of feature x2: \", mean_x2)\n",
        "print(\"Variance of feature x2: \", var_x2)"
      ],
      "metadata": {
        "colab": {
          "base_uri": "https://localhost:8080/"
        },
        "id": "xgWYhQOjqRzL",
        "outputId": "c70b0882-4e3c-43ad-e8bb-983432a46880"
      },
      "execution_count": null,
      "outputs": [
        {
          "output_type": "stream",
          "name": "stdout",
          "text": [
            "Mean of feature x1:  1.5166666666666666\n",
            "Variance of feature x1:  0.0913888888888889\n",
            "\n",
            "\n",
            "Mean of feature x2:  2.6833333333333336\n",
            "Variance of feature x2:  0.25805555555555554\n"
          ]
        }
      ]
    },
    {
      "cell_type": "code",
      "source": [
        "# Standardize the given features\n",
        "\n",
        "stand_features = features.copy()\n",
        "stand_features[:, 0] = (features[:, 0].copy() - mean_x1) / np.sqrt(var_x1)\n",
        "\n",
        "stand_features[:, 1] = (features[:, 1].copy() - mean_x2) / np.sqrt(var_x2)\n",
        "\n",
        "print(stand_features)"
      ],
      "metadata": {
        "colab": {
          "base_uri": "https://localhost:8080/"
        },
        "id": "Ih1EmCMusSTy",
        "outputId": "1deda68b-8a8c-48e8-d722-12f972511d9c"
      },
      "execution_count": null,
      "outputs": [
        {
          "output_type": "stream",
          "name": "stdout",
          "text": [
            "[[-1.70908532 -1.34516637]\n",
            " [-0.05513178  0.42651616]\n",
            " [-0.7167132  -0.95145914]\n",
            " [ 0.27565892  0.62336978]\n",
            " [ 0.93724034  1.60763785]\n",
            " [ 1.26803105 -0.36089829]]\n"
          ]
        }
      ]
    },
    {
      "cell_type": "code",
      "source": [
        "# Standardize the features of X\n",
        "stand_X = X.copy()\n",
        "stand_X[:, 0] = (X[:, 0].copy() - mean_x1) / np.sqrt(var_x1)\n",
        "stand_X[:, 1] = (X[:, 1].copy() - mean_x2) / np.sqrt(var_x2)\n",
        "\n",
        "print(stand_X)"
      ],
      "metadata": {
        "id": "USqpzbGOtxja",
        "colab": {
          "base_uri": "https://localhost:8080/"
        },
        "outputId": "49e24151-4b46-4cba-e917-f2d81a0f437d"
      },
      "execution_count": null,
      "outputs": [
        {
          "output_type": "stream",
          "name": "stdout",
          "text": [
            "[[-0.38592249 -0.36089829]]\n"
          ]
        }
      ]
    },
    {
      "cell_type": "code",
      "source": [
        "# Calculate the features distance from 𝑋 to the data samples\n",
        "d1 = stand_X.copy() - stand_features.copy() \n",
        "d2 = np.sqrt((d1[:, 0].copy()) ** 2  + (d1[:, 1].copy()) ** 2)\n",
        "\n",
        "print(d1)\n",
        "print(d2)\n"
      ],
      "metadata": {
        "colab": {
          "base_uri": "https://localhost:8080/"
        },
        "id": "qXrgwP3DK4h4",
        "outputId": "c73f590c-a6fa-4d0f-e318-17415ae5813e"
      },
      "execution_count": null,
      "outputs": [
        {
          "output_type": "stream",
          "name": "stdout",
          "text": [
            "[[ 1.32316283  0.98426807]\n",
            " [-0.33079071 -0.78741446]\n",
            " [ 0.33079071  0.59056084]\n",
            " [-0.66158142 -0.98426807]\n",
            " [-1.32316283 -1.96853614]\n",
            " [-1.65395354  0.        ]]\n",
            "[1.64910385 0.85407495 0.67689335 1.1859484  2.3718968  1.65395354]\n"
          ]
        }
      ]
    },
    {
      "cell_type": "code",
      "source": [
        "# Classification\n",
        "# Choosing k for classification\n",
        "k = 3\n",
        "min_d = d2.argsort()[:k]\n",
        "\n",
        "classify = labels[min_d] #extract the corresponding labels\n",
        "print(classify)\n",
        "\n",
        "# Find the mode label\n",
        "print(\"Conclusion: X belongs to Label \", st.mode(classify[:,0]))"
      ],
      "metadata": {
        "colab": {
          "base_uri": "https://localhost:8080/"
        },
        "id": "Zp55DyRLmqZi",
        "outputId": "3a5ce902-16a4-41ea-ab2e-0a5121913fa1"
      },
      "execution_count": null,
      "outputs": [
        {
          "output_type": "stream",
          "name": "stdout",
          "text": [
            "[[1]\n",
            " [1]\n",
            " [2]]\n",
            "Conclusion: X belongs to Label  1\n"
          ]
        }
      ]
    },
    {
      "cell_type": "code",
      "source": [],
      "metadata": {
        "id": "jZA79LUAmqQo"
      },
      "execution_count": null,
      "outputs": []
    },
    {
      "cell_type": "code",
      "source": [
        "\n"
      ],
      "metadata": {
        "id": "5rPkNOfvqRvh"
      },
      "execution_count": null,
      "outputs": []
    },
    {
      "cell_type": "code",
      "source": [],
      "metadata": {
        "id": "Aodj-BmfqRpi"
      },
      "execution_count": null,
      "outputs": []
    }
  ]
}